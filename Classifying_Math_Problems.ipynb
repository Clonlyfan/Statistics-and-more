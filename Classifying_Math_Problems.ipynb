{
  "cells": [
    {
      "cell_type": "markdown",
      "metadata": {
        "id": "view-in-github",
        "colab_type": "text"
      },
      "source": [
        "<a href=\"https://colab.research.google.com/github/Clonlyfan/Statistics-and-more/blob/main/Classifying_Math_Problems.ipynb\" target=\"_parent\"><img src=\"https://colab.research.google.com/assets/colab-badge.svg\" alt=\"Open In Colab\"/></a>"
      ]
    },
    {
      "cell_type": "code",
      "execution_count": 72,
      "metadata": {
        "colab": {
          "base_uri": "https://localhost:8080/"
        },
        "id": "-kbKyhBAv9LM",
        "outputId": "24438d48-661b-4729-d0e3-c052c3b4eb19"
      },
      "outputs": [
        {
          "output_type": "stream",
          "name": "stdout",
          "text": [
            "Requirement already satisfied: kaggle in /usr/local/lib/python3.11/dist-packages (1.7.4.2)\n",
            "Requirement already satisfied: bleach in /usr/local/lib/python3.11/dist-packages (from kaggle) (6.2.0)\n",
            "Requirement already satisfied: certifi>=14.05.14 in /usr/local/lib/python3.11/dist-packages (from kaggle) (2025.4.26)\n",
            "Requirement already satisfied: charset-normalizer in /usr/local/lib/python3.11/dist-packages (from kaggle) (3.4.1)\n",
            "Requirement already satisfied: idna in /usr/local/lib/python3.11/dist-packages (from kaggle) (2.10)\n",
            "Requirement already satisfied: protobuf in /usr/local/lib/python3.11/dist-packages (from kaggle) (5.29.4)\n",
            "Requirement already satisfied: python-dateutil>=2.5.3 in /usr/local/lib/python3.11/dist-packages (from kaggle) (2.9.0.post0)\n",
            "Requirement already satisfied: python-slugify in /usr/local/lib/python3.11/dist-packages (from kaggle) (8.0.4)\n",
            "Requirement already satisfied: requests in /usr/local/lib/python3.11/dist-packages (from kaggle) (2.32.3)\n",
            "Requirement already satisfied: setuptools>=21.0.0 in /usr/local/lib/python3.11/dist-packages (from kaggle) (75.2.0)\n",
            "Requirement already satisfied: six>=1.10 in /usr/local/lib/python3.11/dist-packages (from kaggle) (1.17.0)\n",
            "Requirement already satisfied: text-unidecode in /usr/local/lib/python3.11/dist-packages (from kaggle) (1.3)\n",
            "Requirement already satisfied: tqdm in /usr/local/lib/python3.11/dist-packages (from kaggle) (4.67.1)\n",
            "Requirement already satisfied: urllib3>=1.15.1 in /usr/local/lib/python3.11/dist-packages (from kaggle) (2.4.0)\n",
            "Requirement already satisfied: webencodings in /usr/local/lib/python3.11/dist-packages (from kaggle) (0.5.1)\n",
            "classification-of-math-problems-by-kasut-academy.zip: Skipping, found more recently modified local copy (use --force to force download)\n",
            "Archive:  classification-of-math-problems-by-kasut-academy.zip\n",
            "replace sample_submission.csv? [y]es, [n]o, [A]ll, [N]one, [r]ename: y\n",
            "  inflating: sample_submission.csv   \n",
            "replace test.csv? [y]es, [n]o, [A]ll, [N]one, [r]ename: y\n",
            "  inflating: test.csv                \n",
            "replace train.csv? [y]es, [n]o, [A]ll, [N]one, [r]ename: y\n",
            "  inflating: train.csv               \n"
          ]
        }
      ],
      "source": [
        "# Install the Kaggle API if you haven't already\n",
        "!pip install kaggle\n",
        "\n",
        "# Create the kaggle directory\n",
        "!mkdir -p ~/.kaggle\n",
        "\n",
        "# Create the kaggle.json file with your credentials\n",
        "import os\n",
        "import json\n",
        "\n",
        "# Your username\n",
        "kaggle_username = \"ishan123987\"\n",
        "# Replace with your actual API key from the kaggle.json file\n",
        "kaggle_key = \"08c7cd04f3b2bb985798af54455168b1\"\n",
        "\n",
        "# Create the json file\n",
        "kaggle_cred = {\"username\": kaggle_username, \"key\": kaggle_key}\n",
        "with open('/root/.kaggle/kaggle.json', 'w') as file:\n",
        "    json.dump(kaggle_cred, file)\n",
        "\n",
        "# Set permissions\n",
        "!chmod 600 ~/.kaggle/kaggle.json\n",
        "\n",
        "# Download the Math-Students Performance Data\n",
        "!kaggle competitions download -c classification-of-math-problems-by-kasut-academy\n",
        "\n",
        "# Unzip the dataset\n",
        "!unzip classification-of-math-problems-by-kasut-academy"
      ]
    },
    {
      "cell_type": "markdown",
      "metadata": {
        "id": "uCJOcV2SKd1l"
      },
      "source": [
        "**EDA (Exploratory Data Analysis)**\n"
      ]
    },
    {
      "cell_type": "code",
      "execution_count": 73,
      "metadata": {
        "id": "BISSxCB0oenG",
        "colab": {
          "base_uri": "https://localhost:8080/",
          "height": 971
        },
        "outputId": "1260b31a-fa9b-431a-d8fd-65bd314fbd83"
      },
      "outputs": [
        {
          "output_type": "stream",
          "name": "stdout",
          "text": [
            "Found existing installation: pandas 2.2.3\n",
            "Uninstalling pandas-2.2.3:\n",
            "  Successfully uninstalled pandas-2.2.3\n",
            "Collecting pandas\n",
            "  Using cached pandas-2.2.3-cp311-cp311-manylinux_2_17_x86_64.manylinux2014_x86_64.whl.metadata (89 kB)\n",
            "Requirement already satisfied: numpy>=1.23.2 in /usr/local/lib/python3.11/dist-packages (from pandas) (2.0.2)\n",
            "Requirement already satisfied: python-dateutil>=2.8.2 in /usr/local/lib/python3.11/dist-packages (from pandas) (2.9.0.post0)\n",
            "Requirement already satisfied: pytz>=2020.1 in /usr/local/lib/python3.11/dist-packages (from pandas) (2025.2)\n",
            "Requirement already satisfied: tzdata>=2022.7 in /usr/local/lib/python3.11/dist-packages (from pandas) (2025.2)\n",
            "Requirement already satisfied: six>=1.5 in /usr/local/lib/python3.11/dist-packages (from python-dateutil>=2.8.2->pandas) (1.17.0)\n",
            "Using cached pandas-2.2.3-cp311-cp311-manylinux_2_17_x86_64.manylinux2014_x86_64.whl (13.1 MB)\n",
            "Installing collected packages: pandas\n",
            "\u001b[31mERROR: pip's dependency resolver does not currently take into account all the packages that are installed. This behaviour is the source of the following dependency conflicts.\n",
            "google-colab 1.0.0 requires pandas==2.2.2, but you have pandas 2.2.3 which is incompatible.\u001b[0m\u001b[31m\n",
            "\u001b[0mSuccessfully installed pandas-2.2.3\n",
            "Training data shape: (10189, 2)\n",
            "\n",
            "First 5 rows of training data:\n"
          ]
        },
        {
          "output_type": "display_data",
          "data": {
            "text/plain": [
              "                                            Question  label\n",
              "0  A solitaire game is played as follows.  Six di...      3\n",
              "1  2. The school table tennis championship was he...      5\n",
              "2  Given that $x, y,$ and $z$ are real numbers th...      0\n",
              "3  $25 \\cdot 22$ Given three distinct points $P\\l...      1\n",
              "4  I am thinking of a five-digit number composed ...      5"
            ],
            "text/html": [
              "\n",
              "  <div id=\"df-298cd0b4-fb4a-416f-94bf-c66a61fd3c3f\" class=\"colab-df-container\">\n",
              "    <div>\n",
              "<style scoped>\n",
              "    .dataframe tbody tr th:only-of-type {\n",
              "        vertical-align: middle;\n",
              "    }\n",
              "\n",
              "    .dataframe tbody tr th {\n",
              "        vertical-align: top;\n",
              "    }\n",
              "\n",
              "    .dataframe thead th {\n",
              "        text-align: right;\n",
              "    }\n",
              "</style>\n",
              "<table border=\"1\" class=\"dataframe\">\n",
              "  <thead>\n",
              "    <tr style=\"text-align: right;\">\n",
              "      <th></th>\n",
              "      <th>Question</th>\n",
              "      <th>label</th>\n",
              "    </tr>\n",
              "  </thead>\n",
              "  <tbody>\n",
              "    <tr>\n",
              "      <th>0</th>\n",
              "      <td>A solitaire game is played as follows.  Six di...</td>\n",
              "      <td>3</td>\n",
              "    </tr>\n",
              "    <tr>\n",
              "      <th>1</th>\n",
              "      <td>2. The school table tennis championship was he...</td>\n",
              "      <td>5</td>\n",
              "    </tr>\n",
              "    <tr>\n",
              "      <th>2</th>\n",
              "      <td>Given that $x, y,$ and $z$ are real numbers th...</td>\n",
              "      <td>0</td>\n",
              "    </tr>\n",
              "    <tr>\n",
              "      <th>3</th>\n",
              "      <td>$25 \\cdot 22$ Given three distinct points $P\\l...</td>\n",
              "      <td>1</td>\n",
              "    </tr>\n",
              "    <tr>\n",
              "      <th>4</th>\n",
              "      <td>I am thinking of a five-digit number composed ...</td>\n",
              "      <td>5</td>\n",
              "    </tr>\n",
              "  </tbody>\n",
              "</table>\n",
              "</div>\n",
              "    <div class=\"colab-df-buttons\">\n",
              "\n",
              "  <div class=\"colab-df-container\">\n",
              "    <button class=\"colab-df-convert\" onclick=\"convertToInteractive('df-298cd0b4-fb4a-416f-94bf-c66a61fd3c3f')\"\n",
              "            title=\"Convert this dataframe to an interactive table.\"\n",
              "            style=\"display:none;\">\n",
              "\n",
              "  <svg xmlns=\"http://www.w3.org/2000/svg\" height=\"24px\" viewBox=\"0 -960 960 960\">\n",
              "    <path d=\"M120-120v-720h720v720H120Zm60-500h600v-160H180v160Zm220 220h160v-160H400v160Zm0 220h160v-160H400v160ZM180-400h160v-160H180v160Zm440 0h160v-160H620v160ZM180-180h160v-160H180v160Zm440 0h160v-160H620v160Z\"/>\n",
              "  </svg>\n",
              "    </button>\n",
              "\n",
              "  <style>\n",
              "    .colab-df-container {\n",
              "      display:flex;\n",
              "      gap: 12px;\n",
              "    }\n",
              "\n",
              "    .colab-df-convert {\n",
              "      background-color: #E8F0FE;\n",
              "      border: none;\n",
              "      border-radius: 50%;\n",
              "      cursor: pointer;\n",
              "      display: none;\n",
              "      fill: #1967D2;\n",
              "      height: 32px;\n",
              "      padding: 0 0 0 0;\n",
              "      width: 32px;\n",
              "    }\n",
              "\n",
              "    .colab-df-convert:hover {\n",
              "      background-color: #E2EBFA;\n",
              "      box-shadow: 0px 1px 2px rgba(60, 64, 67, 0.3), 0px 1px 3px 1px rgba(60, 64, 67, 0.15);\n",
              "      fill: #174EA6;\n",
              "    }\n",
              "\n",
              "    .colab-df-buttons div {\n",
              "      margin-bottom: 4px;\n",
              "    }\n",
              "\n",
              "    [theme=dark] .colab-df-convert {\n",
              "      background-color: #3B4455;\n",
              "      fill: #D2E3FC;\n",
              "    }\n",
              "\n",
              "    [theme=dark] .colab-df-convert:hover {\n",
              "      background-color: #434B5C;\n",
              "      box-shadow: 0px 1px 3px 1px rgba(0, 0, 0, 0.15);\n",
              "      filter: drop-shadow(0px 1px 2px rgba(0, 0, 0, 0.3));\n",
              "      fill: #FFFFFF;\n",
              "    }\n",
              "  </style>\n",
              "\n",
              "    <script>\n",
              "      const buttonEl =\n",
              "        document.querySelector('#df-298cd0b4-fb4a-416f-94bf-c66a61fd3c3f button.colab-df-convert');\n",
              "      buttonEl.style.display =\n",
              "        google.colab.kernel.accessAllowed ? 'block' : 'none';\n",
              "\n",
              "      async function convertToInteractive(key) {\n",
              "        const element = document.querySelector('#df-298cd0b4-fb4a-416f-94bf-c66a61fd3c3f');\n",
              "        const dataTable =\n",
              "          await google.colab.kernel.invokeFunction('convertToInteractive',\n",
              "                                                    [key], {});\n",
              "        if (!dataTable) return;\n",
              "\n",
              "        const docLinkHtml = 'Like what you see? Visit the ' +\n",
              "          '<a target=\"_blank\" href=https://colab.research.google.com/notebooks/data_table.ipynb>data table notebook</a>'\n",
              "          + ' to learn more about interactive tables.';\n",
              "        element.innerHTML = '';\n",
              "        dataTable['output_type'] = 'display_data';\n",
              "        await google.colab.output.renderOutput(dataTable, element);\n",
              "        const docLink = document.createElement('div');\n",
              "        docLink.innerHTML = docLinkHtml;\n",
              "        element.appendChild(docLink);\n",
              "      }\n",
              "    </script>\n",
              "  </div>\n",
              "\n",
              "\n",
              "    <div id=\"df-6c2d80ea-1f18-4fe5-a46c-f5165cbdbf45\">\n",
              "      <button class=\"colab-df-quickchart\" onclick=\"quickchart('df-6c2d80ea-1f18-4fe5-a46c-f5165cbdbf45')\"\n",
              "                title=\"Suggest charts\"\n",
              "                style=\"display:none;\">\n",
              "\n",
              "<svg xmlns=\"http://www.w3.org/2000/svg\" height=\"24px\"viewBox=\"0 0 24 24\"\n",
              "     width=\"24px\">\n",
              "    <g>\n",
              "        <path d=\"M19 3H5c-1.1 0-2 .9-2 2v14c0 1.1.9 2 2 2h14c1.1 0 2-.9 2-2V5c0-1.1-.9-2-2-2zM9 17H7v-7h2v7zm4 0h-2V7h2v10zm4 0h-2v-4h2v4z\"/>\n",
              "    </g>\n",
              "</svg>\n",
              "      </button>\n",
              "\n",
              "<style>\n",
              "  .colab-df-quickchart {\n",
              "      --bg-color: #E8F0FE;\n",
              "      --fill-color: #1967D2;\n",
              "      --hover-bg-color: #E2EBFA;\n",
              "      --hover-fill-color: #174EA6;\n",
              "      --disabled-fill-color: #AAA;\n",
              "      --disabled-bg-color: #DDD;\n",
              "  }\n",
              "\n",
              "  [theme=dark] .colab-df-quickchart {\n",
              "      --bg-color: #3B4455;\n",
              "      --fill-color: #D2E3FC;\n",
              "      --hover-bg-color: #434B5C;\n",
              "      --hover-fill-color: #FFFFFF;\n",
              "      --disabled-bg-color: #3B4455;\n",
              "      --disabled-fill-color: #666;\n",
              "  }\n",
              "\n",
              "  .colab-df-quickchart {\n",
              "    background-color: var(--bg-color);\n",
              "    border: none;\n",
              "    border-radius: 50%;\n",
              "    cursor: pointer;\n",
              "    display: none;\n",
              "    fill: var(--fill-color);\n",
              "    height: 32px;\n",
              "    padding: 0;\n",
              "    width: 32px;\n",
              "  }\n",
              "\n",
              "  .colab-df-quickchart:hover {\n",
              "    background-color: var(--hover-bg-color);\n",
              "    box-shadow: 0 1px 2px rgba(60, 64, 67, 0.3), 0 1px 3px 1px rgba(60, 64, 67, 0.15);\n",
              "    fill: var(--button-hover-fill-color);\n",
              "  }\n",
              "\n",
              "  .colab-df-quickchart-complete:disabled,\n",
              "  .colab-df-quickchart-complete:disabled:hover {\n",
              "    background-color: var(--disabled-bg-color);\n",
              "    fill: var(--disabled-fill-color);\n",
              "    box-shadow: none;\n",
              "  }\n",
              "\n",
              "  .colab-df-spinner {\n",
              "    border: 2px solid var(--fill-color);\n",
              "    border-color: transparent;\n",
              "    border-bottom-color: var(--fill-color);\n",
              "    animation:\n",
              "      spin 1s steps(1) infinite;\n",
              "  }\n",
              "\n",
              "  @keyframes spin {\n",
              "    0% {\n",
              "      border-color: transparent;\n",
              "      border-bottom-color: var(--fill-color);\n",
              "      border-left-color: var(--fill-color);\n",
              "    }\n",
              "    20% {\n",
              "      border-color: transparent;\n",
              "      border-left-color: var(--fill-color);\n",
              "      border-top-color: var(--fill-color);\n",
              "    }\n",
              "    30% {\n",
              "      border-color: transparent;\n",
              "      border-left-color: var(--fill-color);\n",
              "      border-top-color: var(--fill-color);\n",
              "      border-right-color: var(--fill-color);\n",
              "    }\n",
              "    40% {\n",
              "      border-color: transparent;\n",
              "      border-right-color: var(--fill-color);\n",
              "      border-top-color: var(--fill-color);\n",
              "    }\n",
              "    60% {\n",
              "      border-color: transparent;\n",
              "      border-right-color: var(--fill-color);\n",
              "    }\n",
              "    80% {\n",
              "      border-color: transparent;\n",
              "      border-right-color: var(--fill-color);\n",
              "      border-bottom-color: var(--fill-color);\n",
              "    }\n",
              "    90% {\n",
              "      border-color: transparent;\n",
              "      border-bottom-color: var(--fill-color);\n",
              "    }\n",
              "  }\n",
              "</style>\n",
              "\n",
              "      <script>\n",
              "        async function quickchart(key) {\n",
              "          const quickchartButtonEl =\n",
              "            document.querySelector('#' + key + ' button');\n",
              "          quickchartButtonEl.disabled = true;  // To prevent multiple clicks.\n",
              "          quickchartButtonEl.classList.add('colab-df-spinner');\n",
              "          try {\n",
              "            const charts = await google.colab.kernel.invokeFunction(\n",
              "                'suggestCharts', [key], {});\n",
              "          } catch (error) {\n",
              "            console.error('Error during call to suggestCharts:', error);\n",
              "          }\n",
              "          quickchartButtonEl.classList.remove('colab-df-spinner');\n",
              "          quickchartButtonEl.classList.add('colab-df-quickchart-complete');\n",
              "        }\n",
              "        (() => {\n",
              "          let quickchartButtonEl =\n",
              "            document.querySelector('#df-6c2d80ea-1f18-4fe5-a46c-f5165cbdbf45 button');\n",
              "          quickchartButtonEl.style.display =\n",
              "            google.colab.kernel.accessAllowed ? 'block' : 'none';\n",
              "        })();\n",
              "      </script>\n",
              "    </div>\n",
              "\n",
              "    </div>\n",
              "  </div>\n"
            ],
            "application/vnd.google.colaboratory.intrinsic+json": {
              "type": "dataframe",
              "summary": "{\n  \"name\": \"display(test_df\",\n  \"rows\": 5,\n  \"fields\": [\n    {\n      \"column\": \"Question\",\n      \"properties\": {\n        \"dtype\": \"string\",\n        \"num_unique_values\": 5,\n        \"samples\": [\n          \"2. The school table tennis championship was held according to the Olympic system. The winner won 6 matches. How many participants in the championship won more matches than they lost? (In the first round of the championship held according to the Olympic system, participants are paired. Those who lost the first game are eliminated from the championship, while those who won in the first round are paired again to play the second round. The losers are eliminated again, the winners are paired for the third round, and so on, until only one champion remains. It is known that in each round of our championship, a pair was found for each participant.)\",\n          \"I am thinking of a five-digit number composed of even digits. If I swap the digit in the third position $\\\\mathrm{s}$ with any other, the number decreases. Furthermore, I will reveal that the first digit is double the last, and the second digit is double the second to last.\\n\\nWhat number am I thinking of?\\n\\n(M. Mach)\\n\\nHint. Can you compare the third digit with the others?\",\n          \"Given that $x, y,$ and $z$ are real numbers that satisfy: \\\\begin{align*} x &= \\\\sqrt{y^2-\\\\frac{1}{16}}+\\\\sqrt{z^2-\\\\frac{1}{16}}, \\\\\\\\ y &= \\\\sqrt{z^2-\\\\frac{1}{25}}+\\\\sqrt{x^2-\\\\frac{1}{25}}, \\\\\\\\ z &= \\\\sqrt{x^2 - \\\\frac 1{36}}+\\\\sqrt{y^2-\\\\frac 1{36}}, \\\\end{align*} and that $x+y+z = \\\\frac{m}{\\\\sqrt{n}},$ where $m$ and $n$ are positive integers and $n$ is not divisible by the square of any prime, find $m+n.$\"\n        ],\n        \"semantic_type\": \"\",\n        \"description\": \"\"\n      }\n    },\n    {\n      \"column\": \"label\",\n      \"properties\": {\n        \"dtype\": \"number\",\n        \"std\": 2,\n        \"min\": 0,\n        \"max\": 5,\n        \"num_unique_values\": 4,\n        \"samples\": [\n          5,\n          1,\n          3\n        ],\n        \"semantic_type\": \"\",\n        \"description\": \"\"\n      }\n    }\n  ]\n}"
            }
          },
          "metadata": {}
        },
        {
          "output_type": "stream",
          "name": "stdout",
          "text": [
            "\n",
            "Column information:\n",
            "<class 'pandas.core.frame.DataFrame'>\n",
            "RangeIndex: 10189 entries, 0 to 10188\n",
            "Data columns (total 2 columns):\n",
            " #   Column    Non-Null Count  Dtype \n",
            "---  ------    --------------  ----- \n",
            " 0   Question  10189 non-null  object\n",
            " 1   label     10189 non-null  int64 \n",
            "dtypes: int64(1), object(1)\n",
            "memory usage: 159.3+ KB\n"
          ]
        },
        {
          "output_type": "display_data",
          "data": {
            "text/plain": [
              "None"
            ]
          },
          "metadata": {}
        },
        {
          "output_type": "stream",
          "name": "stdout",
          "text": [
            "\n",
            "Test data shape: (3044, 2)\n"
          ]
        },
        {
          "output_type": "display_data",
          "data": {
            "text/plain": [
              "   id                                           Question\n",
              "0   0   b'Solve 0 = -i - 91*i - 1598*i - 64220 for i.\\n'\n",
              "1   1  Galperin G.A.\\n\\nA natural number $N$ is 999.....\n",
              "2   2  Example 7 Calculate $\\frac{1}{2 \\sqrt{1}+\\sqrt...\n",
              "3   3  If $A$, $B$, and $C$ represent three distinct ...\n",
              "4   4  2. Calculate $1+12+123+1234+12345+123456+12345..."
            ],
            "text/html": [
              "\n",
              "  <div id=\"df-36f8fa08-50cb-4ac8-857c-f22f5f7f7db5\" class=\"colab-df-container\">\n",
              "    <div>\n",
              "<style scoped>\n",
              "    .dataframe tbody tr th:only-of-type {\n",
              "        vertical-align: middle;\n",
              "    }\n",
              "\n",
              "    .dataframe tbody tr th {\n",
              "        vertical-align: top;\n",
              "    }\n",
              "\n",
              "    .dataframe thead th {\n",
              "        text-align: right;\n",
              "    }\n",
              "</style>\n",
              "<table border=\"1\" class=\"dataframe\">\n",
              "  <thead>\n",
              "    <tr style=\"text-align: right;\">\n",
              "      <th></th>\n",
              "      <th>id</th>\n",
              "      <th>Question</th>\n",
              "    </tr>\n",
              "  </thead>\n",
              "  <tbody>\n",
              "    <tr>\n",
              "      <th>0</th>\n",
              "      <td>0</td>\n",
              "      <td>b'Solve 0 = -i - 91*i - 1598*i - 64220 for i.\\n'</td>\n",
              "    </tr>\n",
              "    <tr>\n",
              "      <th>1</th>\n",
              "      <td>1</td>\n",
              "      <td>Galperin G.A.\\n\\nA natural number $N$ is 999.....</td>\n",
              "    </tr>\n",
              "    <tr>\n",
              "      <th>2</th>\n",
              "      <td>2</td>\n",
              "      <td>Example 7 Calculate $\\frac{1}{2 \\sqrt{1}+\\sqrt...</td>\n",
              "    </tr>\n",
              "    <tr>\n",
              "      <th>3</th>\n",
              "      <td>3</td>\n",
              "      <td>If $A$, $B$, and $C$ represent three distinct ...</td>\n",
              "    </tr>\n",
              "    <tr>\n",
              "      <th>4</th>\n",
              "      <td>4</td>\n",
              "      <td>2. Calculate $1+12+123+1234+12345+123456+12345...</td>\n",
              "    </tr>\n",
              "  </tbody>\n",
              "</table>\n",
              "</div>\n",
              "    <div class=\"colab-df-buttons\">\n",
              "\n",
              "  <div class=\"colab-df-container\">\n",
              "    <button class=\"colab-df-convert\" onclick=\"convertToInteractive('df-36f8fa08-50cb-4ac8-857c-f22f5f7f7db5')\"\n",
              "            title=\"Convert this dataframe to an interactive table.\"\n",
              "            style=\"display:none;\">\n",
              "\n",
              "  <svg xmlns=\"http://www.w3.org/2000/svg\" height=\"24px\" viewBox=\"0 -960 960 960\">\n",
              "    <path d=\"M120-120v-720h720v720H120Zm60-500h600v-160H180v160Zm220 220h160v-160H400v160Zm0 220h160v-160H400v160ZM180-400h160v-160H180v160Zm440 0h160v-160H620v160ZM180-180h160v-160H180v160Zm440 0h160v-160H620v160Z\"/>\n",
              "  </svg>\n",
              "    </button>\n",
              "\n",
              "  <style>\n",
              "    .colab-df-container {\n",
              "      display:flex;\n",
              "      gap: 12px;\n",
              "    }\n",
              "\n",
              "    .colab-df-convert {\n",
              "      background-color: #E8F0FE;\n",
              "      border: none;\n",
              "      border-radius: 50%;\n",
              "      cursor: pointer;\n",
              "      display: none;\n",
              "      fill: #1967D2;\n",
              "      height: 32px;\n",
              "      padding: 0 0 0 0;\n",
              "      width: 32px;\n",
              "    }\n",
              "\n",
              "    .colab-df-convert:hover {\n",
              "      background-color: #E2EBFA;\n",
              "      box-shadow: 0px 1px 2px rgba(60, 64, 67, 0.3), 0px 1px 3px 1px rgba(60, 64, 67, 0.15);\n",
              "      fill: #174EA6;\n",
              "    }\n",
              "\n",
              "    .colab-df-buttons div {\n",
              "      margin-bottom: 4px;\n",
              "    }\n",
              "\n",
              "    [theme=dark] .colab-df-convert {\n",
              "      background-color: #3B4455;\n",
              "      fill: #D2E3FC;\n",
              "    }\n",
              "\n",
              "    [theme=dark] .colab-df-convert:hover {\n",
              "      background-color: #434B5C;\n",
              "      box-shadow: 0px 1px 3px 1px rgba(0, 0, 0, 0.15);\n",
              "      filter: drop-shadow(0px 1px 2px rgba(0, 0, 0, 0.3));\n",
              "      fill: #FFFFFF;\n",
              "    }\n",
              "  </style>\n",
              "\n",
              "    <script>\n",
              "      const buttonEl =\n",
              "        document.querySelector('#df-36f8fa08-50cb-4ac8-857c-f22f5f7f7db5 button.colab-df-convert');\n",
              "      buttonEl.style.display =\n",
              "        google.colab.kernel.accessAllowed ? 'block' : 'none';\n",
              "\n",
              "      async function convertToInteractive(key) {\n",
              "        const element = document.querySelector('#df-36f8fa08-50cb-4ac8-857c-f22f5f7f7db5');\n",
              "        const dataTable =\n",
              "          await google.colab.kernel.invokeFunction('convertToInteractive',\n",
              "                                                    [key], {});\n",
              "        if (!dataTable) return;\n",
              "\n",
              "        const docLinkHtml = 'Like what you see? Visit the ' +\n",
              "          '<a target=\"_blank\" href=https://colab.research.google.com/notebooks/data_table.ipynb>data table notebook</a>'\n",
              "          + ' to learn more about interactive tables.';\n",
              "        element.innerHTML = '';\n",
              "        dataTable['output_type'] = 'display_data';\n",
              "        await google.colab.output.renderOutput(dataTable, element);\n",
              "        const docLink = document.createElement('div');\n",
              "        docLink.innerHTML = docLinkHtml;\n",
              "        element.appendChild(docLink);\n",
              "      }\n",
              "    </script>\n",
              "  </div>\n",
              "\n",
              "\n",
              "    <div id=\"df-c8d1785e-81c9-4d56-8ca8-07110a9749e9\">\n",
              "      <button class=\"colab-df-quickchart\" onclick=\"quickchart('df-c8d1785e-81c9-4d56-8ca8-07110a9749e9')\"\n",
              "                title=\"Suggest charts\"\n",
              "                style=\"display:none;\">\n",
              "\n",
              "<svg xmlns=\"http://www.w3.org/2000/svg\" height=\"24px\"viewBox=\"0 0 24 24\"\n",
              "     width=\"24px\">\n",
              "    <g>\n",
              "        <path d=\"M19 3H5c-1.1 0-2 .9-2 2v14c0 1.1.9 2 2 2h14c1.1 0 2-.9 2-2V5c0-1.1-.9-2-2-2zM9 17H7v-7h2v7zm4 0h-2V7h2v10zm4 0h-2v-4h2v4z\"/>\n",
              "    </g>\n",
              "</svg>\n",
              "      </button>\n",
              "\n",
              "<style>\n",
              "  .colab-df-quickchart {\n",
              "      --bg-color: #E8F0FE;\n",
              "      --fill-color: #1967D2;\n",
              "      --hover-bg-color: #E2EBFA;\n",
              "      --hover-fill-color: #174EA6;\n",
              "      --disabled-fill-color: #AAA;\n",
              "      --disabled-bg-color: #DDD;\n",
              "  }\n",
              "\n",
              "  [theme=dark] .colab-df-quickchart {\n",
              "      --bg-color: #3B4455;\n",
              "      --fill-color: #D2E3FC;\n",
              "      --hover-bg-color: #434B5C;\n",
              "      --hover-fill-color: #FFFFFF;\n",
              "      --disabled-bg-color: #3B4455;\n",
              "      --disabled-fill-color: #666;\n",
              "  }\n",
              "\n",
              "  .colab-df-quickchart {\n",
              "    background-color: var(--bg-color);\n",
              "    border: none;\n",
              "    border-radius: 50%;\n",
              "    cursor: pointer;\n",
              "    display: none;\n",
              "    fill: var(--fill-color);\n",
              "    height: 32px;\n",
              "    padding: 0;\n",
              "    width: 32px;\n",
              "  }\n",
              "\n",
              "  .colab-df-quickchart:hover {\n",
              "    background-color: var(--hover-bg-color);\n",
              "    box-shadow: 0 1px 2px rgba(60, 64, 67, 0.3), 0 1px 3px 1px rgba(60, 64, 67, 0.15);\n",
              "    fill: var(--button-hover-fill-color);\n",
              "  }\n",
              "\n",
              "  .colab-df-quickchart-complete:disabled,\n",
              "  .colab-df-quickchart-complete:disabled:hover {\n",
              "    background-color: var(--disabled-bg-color);\n",
              "    fill: var(--disabled-fill-color);\n",
              "    box-shadow: none;\n",
              "  }\n",
              "\n",
              "  .colab-df-spinner {\n",
              "    border: 2px solid var(--fill-color);\n",
              "    border-color: transparent;\n",
              "    border-bottom-color: var(--fill-color);\n",
              "    animation:\n",
              "      spin 1s steps(1) infinite;\n",
              "  }\n",
              "\n",
              "  @keyframes spin {\n",
              "    0% {\n",
              "      border-color: transparent;\n",
              "      border-bottom-color: var(--fill-color);\n",
              "      border-left-color: var(--fill-color);\n",
              "    }\n",
              "    20% {\n",
              "      border-color: transparent;\n",
              "      border-left-color: var(--fill-color);\n",
              "      border-top-color: var(--fill-color);\n",
              "    }\n",
              "    30% {\n",
              "      border-color: transparent;\n",
              "      border-left-color: var(--fill-color);\n",
              "      border-top-color: var(--fill-color);\n",
              "      border-right-color: var(--fill-color);\n",
              "    }\n",
              "    40% {\n",
              "      border-color: transparent;\n",
              "      border-right-color: var(--fill-color);\n",
              "      border-top-color: var(--fill-color);\n",
              "    }\n",
              "    60% {\n",
              "      border-color: transparent;\n",
              "      border-right-color: var(--fill-color);\n",
              "    }\n",
              "    80% {\n",
              "      border-color: transparent;\n",
              "      border-right-color: var(--fill-color);\n",
              "      border-bottom-color: var(--fill-color);\n",
              "    }\n",
              "    90% {\n",
              "      border-color: transparent;\n",
              "      border-bottom-color: var(--fill-color);\n",
              "    }\n",
              "  }\n",
              "</style>\n",
              "\n",
              "      <script>\n",
              "        async function quickchart(key) {\n",
              "          const quickchartButtonEl =\n",
              "            document.querySelector('#' + key + ' button');\n",
              "          quickchartButtonEl.disabled = true;  // To prevent multiple clicks.\n",
              "          quickchartButtonEl.classList.add('colab-df-spinner');\n",
              "          try {\n",
              "            const charts = await google.colab.kernel.invokeFunction(\n",
              "                'suggestCharts', [key], {});\n",
              "          } catch (error) {\n",
              "            console.error('Error during call to suggestCharts:', error);\n",
              "          }\n",
              "          quickchartButtonEl.classList.remove('colab-df-spinner');\n",
              "          quickchartButtonEl.classList.add('colab-df-quickchart-complete');\n",
              "        }\n",
              "        (() => {\n",
              "          let quickchartButtonEl =\n",
              "            document.querySelector('#df-c8d1785e-81c9-4d56-8ca8-07110a9749e9 button');\n",
              "          quickchartButtonEl.style.display =\n",
              "            google.colab.kernel.accessAllowed ? 'block' : 'none';\n",
              "        })();\n",
              "      </script>\n",
              "    </div>\n",
              "\n",
              "    </div>\n",
              "  </div>\n"
            ],
            "application/vnd.google.colaboratory.intrinsic+json": {
              "type": "dataframe",
              "summary": "{\n  \"name\": \"display(test_df\",\n  \"rows\": 5,\n  \"fields\": [\n    {\n      \"column\": \"id\",\n      \"properties\": {\n        \"dtype\": \"number\",\n        \"std\": 1,\n        \"min\": 0,\n        \"max\": 4,\n        \"num_unique_values\": 5,\n        \"samples\": [\n          1,\n          4,\n          2\n        ],\n        \"semantic_type\": \"\",\n        \"description\": \"\"\n      }\n    },\n    {\n      \"column\": \"Question\",\n      \"properties\": {\n        \"dtype\": \"string\",\n        \"num_unique_values\": 5,\n        \"samples\": [\n          \"Galperin G.A.\\n\\nA natural number $N$ is 999... 99 ( $k$ nines) times greater than the sum of its digits. Specify all possible values of $k$ and for each of them, provide an example of such a number.\",\n          \"2. Calculate $1+12+123+1234+12345+123456+1234567+12345678+123456789$, the hundreds digit of the sum is . $\\\\qquad$\",\n          \"Example 7 Calculate $\\\\frac{1}{2 \\\\sqrt{1}+\\\\sqrt{2}}+\\\\frac{1}{3 \\\\sqrt{2}+2 \\\\sqrt{3}}$\\n$$\\n+\\\\frac{1}{4 \\\\sqrt{3}+3 \\\\sqrt{4}}+\\\\cdots+\\\\frac{1}{100 \\\\sqrt{99}+99 \\\\sqrt{100}} .\\n$$\"\n        ],\n        \"semantic_type\": \"\",\n        \"description\": \"\"\n      }\n    }\n  ]\n}"
            }
          },
          "metadata": {}
        }
      ],
      "source": [
        "!pip uninstall pandas -y\n",
        "!pip install pandas\n",
        "import pandas as pd\n",
        "\n",
        "# Load the training data\n",
        "train_df = pd.read_csv('train.csv')\n",
        "\n",
        "# Check the shape (rows and columns)\n",
        "print(\"Training data shape:\", train_df.shape)\n",
        "\n",
        "# View the first few rows\n",
        "print(\"\\nFirst 5 rows of training data:\")\n",
        "display(train_df.head())\n",
        "\n",
        "# Check column names and data types\n",
        "print(\"\\nColumn information:\")\n",
        "display(train_df.info())\n",
        "\n",
        "# Load the test data\n",
        "test_df = pd.read_csv('test.csv')\n",
        "print(\"\\nTest data shape:\", test_df.shape)\n",
        "display(test_df.head())\n"
      ]
    },
    {
      "cell_type": "markdown",
      "metadata": {
        "id": "iZxBKVVRMFep"
      },
      "source": [
        "**Missing Values AND label distribution**\n"
      ]
    },
    {
      "cell_type": "code",
      "execution_count": 74,
      "metadata": {
        "id": "z_rJ-gWsVyOq",
        "colab": {
          "base_uri": "https://localhost:8080/"
        },
        "outputId": "ccb097e7-3a0e-4fe9-c120-a242c4627b1b"
      },
      "outputs": [
        {
          "output_type": "stream",
          "name": "stdout",
          "text": [
            "Checking for missing values in each column:\n",
            "Question    0\n",
            "label       0\n",
            "dtype: int64\n",
            "label\n",
            "0    2618\n",
            "1    2439\n",
            "5    1827\n",
            "4    1712\n",
            "2    1039\n",
            "3     368\n",
            "6     100\n",
            "7      86\n",
            "Name: count, dtype: int64\n"
          ]
        }
      ],
      "source": [
        "\n",
        "print(\"Checking for missing values in each column:\")\n",
        "print(train_df.isnull().sum())\n",
        "print(train_df['label'].value_counts())"
      ]
    },
    {
      "cell_type": "markdown",
      "metadata": {
        "id": "sPxEpyWAMr9i"
      },
      "source": [
        "*The label distribution is imbalanced. Most data points belong to labels 0, 1, 5, and 4, while labels 6 and 7 have very few examples. This imbalance should be addressed during modeling—possibly through class weighting, resampling, or other strategies—to prevent bias toward majority classes.*"
      ]
    },
    {
      "cell_type": "markdown",
      "metadata": {
        "id": "oy8Wrgn4NFg-"
      },
      "source": [
        "**Bar chart**"
      ]
    },
    {
      "cell_type": "code",
      "execution_count": 75,
      "metadata": {
        "id": "L2URV_sw5GfU",
        "colab": {
          "base_uri": "https://localhost:8080/",
          "height": 467
        },
        "outputId": "f8d89471-cc6d-4b1e-fcea-3d339db08eb5"
      },
      "outputs": [
        {
          "output_type": "display_data",
          "data": {
            "text/plain": [
              "<Figure size 640x480 with 1 Axes>"
            ],
            "image/png": "[encoded data removed]"
          },
          "metadata": {}
        }
      ],
      "source": [
        "import pandas as pd\n",
        "import matplotlib.pyplot as plt\n",
        "counts = train_df['label'].value_counts()\n",
        "\n",
        "# Plot bar chart\n",
        "counts.plot(kind='bar')\n",
        "\n",
        "# Add labels and title\n",
        "plt.xlabel('label')\n",
        "plt.ylabel('Count')\n",
        "plt.title('Distribution of Categories')\n",
        "plt.show()"
      ]
    },
    {
      "cell_type": "code",
      "execution_count": 76,
      "metadata": {
        "id": "dq1J13zUddhg",
        "colab": {
          "base_uri": "https://localhost:8080/"
        },
        "outputId": "a933527a-7f81-43b0-aacb-73f1b1d71dcf"
      },
      "outputs": [
        {
          "output_type": "stream",
          "name": "stdout",
          "text": [
            "Requirement already satisfied: langdetect in /usr/local/lib/python3.11/dist-packages (1.0.9)\n",
            "Requirement already satisfied: six in /usr/local/lib/python3.11/dist-packages (from langdetect) (1.17.0)\n",
            "Requirement already satisfied: googletrans==4.0.0-rc1 in /usr/local/lib/python3.11/dist-packages (4.0.0rc1)\n",
            "Requirement already satisfied: httpx==0.13.3 in /usr/local/lib/python3.11/dist-packages (from googletrans==4.0.0-rc1) (0.13.3)\n",
            "Requirement already satisfied: certifi in /usr/local/lib/python3.11/dist-packages (from httpx==0.13.3->googletrans==4.0.0-rc1) (2025.4.26)\n",
            "Requirement already satisfied: hstspreload in /usr/local/lib/python3.11/dist-packages (from httpx==0.13.3->googletrans==4.0.0-rc1) (2025.1.1)\n",
            "Requirement already satisfied: sniffio in /usr/local/lib/python3.11/dist-packages (from httpx==0.13.3->googletrans==4.0.0-rc1) (1.3.1)\n",
            "Requirement already satisfied: chardet==3.* in /usr/local/lib/python3.11/dist-packages (from httpx==0.13.3->googletrans==4.0.0-rc1) (3.0.4)\n",
            "Requirement already satisfied: idna==2.* in /usr/local/lib/python3.11/dist-packages (from httpx==0.13.3->googletrans==4.0.0-rc1) (2.10)\n",
            "Requirement already satisfied: rfc3986<2,>=1.3 in /usr/local/lib/python3.11/dist-packages (from httpx==0.13.3->googletrans==4.0.0-rc1) (1.5.0)\n",
            "Requirement already satisfied: httpcore==0.9.* in /usr/local/lib/python3.11/dist-packages (from httpx==0.13.3->googletrans==4.0.0-rc1) (0.9.1)\n",
            "Requirement already satisfied: h11<0.10,>=0.8 in /usr/local/lib/python3.11/dist-packages (from httpcore==0.9.*->httpx==0.13.3->googletrans==4.0.0-rc1) (0.9.0)\n",
            "Requirement already satisfied: h2==3.* in /usr/local/lib/python3.11/dist-packages (from httpcore==0.9.*->httpx==0.13.3->googletrans==4.0.0-rc1) (3.2.0)\n",
            "Requirement already satisfied: hyperframe<6,>=5.2.0 in /usr/local/lib/python3.11/dist-packages (from h2==3.*->httpcore==0.9.*->httpx==0.13.3->googletrans==4.0.0-rc1) (5.2.0)\n",
            "Requirement already satisfied: hpack<4,>=3.0 in /usr/local/lib/python3.11/dist-packages (from h2==3.*->httpcore==0.9.*->httpx==0.13.3->googletrans==4.0.0-rc1) (3.0.0)\n",
            "Requirement already satisfied: joblib in /usr/local/lib/python3.11/dist-packages (1.4.2)\n",
            "Requirement already satisfied: tqdm in /usr/local/lib/python3.11/dist-packages (4.67.1)\n"
          ]
        }
      ],
      "source": [
        "!pip install langdetect\n",
        "!pip install googletrans==4.0.0-rc1\n",
        "!pip install joblib\n",
        "!pip install tqdm"
      ]
    },
    {
      "cell_type": "code",
      "execution_count": 77,
      "metadata": {
        "id": "0-YeBpgUnMsz",
        "colab": {
          "base_uri": "https://localhost:8080/",
          "height": 487
        },
        "outputId": "0c791a25-93bd-43c6-fd72-7843b58bec03"
      },
      "outputs": [
        {
          "output_type": "display_data",
          "data": {
            "text/plain": [
              "<Figure size 1000x500 with 1 Axes>"
            ],
            "image/png": "[encoded data removed]"
          },
          "metadata": {}
        }
      ],
      "source": [
        "import pandas as pd\n",
        "import matplotlib.pyplot as plt\n",
        "import seaborn as sns\n",
        "train_df[\"char_length\"] = train_df[\"Question\"].astype(str).apply(len)\n",
        "\n",
        "plt.figure(figsize=(10, 5))\n",
        "sns.histplot(train_df[\"char_length\"], bins=30, kde=True, color='coral')\n",
        "plt.title(\"Distribution of Character Lengths\")\n",
        "plt.xlabel(\"Number of Characters in Question\")\n",
        "plt.ylabel(\"Frequency\")\n",
        "plt.grid(True)\n",
        "plt.show()"
      ]
    },
    {
      "cell_type": "markdown",
      "metadata": {
        "id": "6oQfOduRNuOB"
      },
      "source": [
        "*Plot displays the distribution of the number of characters in each question. We see that most questions are relatively short, clustering between roughly 0 and 300 characters, with a sharp peak around a much smaller range (likely under 100 characters). The distribution is right-skewed, meaning a small number of questions are very long, stretching up to around 6000 characters, but these are rare.*\n",
        "\n",
        "\n",
        "This suggests that:\n",
        "\n",
        "    The majority of the data consists of concise questions, which is typical for many Q&A or NLP datasets.\n",
        "\n",
        "    There are a few outliers with unusually long questions, which might need to be handled (e.g., by trimming or special preprocessing) to avoid issues in modeling. *italicized text*"
      ]
    },
    {
      "cell_type": "code",
      "execution_count": 78,
      "metadata": {
        "id": "HC95BfPfgj9B",
        "colab": {
          "base_uri": "https://localhost:8080/",
          "height": 924
        },
        "outputId": "03b4c765-5070-426a-a10c-2e975dde5e69"
      },
      "outputs": [
        {
          "output_type": "stream",
          "name": "stdout",
          "text": [
            "Requirement already satisfied: pylatexenc in /usr/local/lib/python3.11/dist-packages (2.10)\n"
          ]
        },
        {
          "output_type": "stream",
          "name": "stderr",
          "text": [
            "100%|██████████| 10189/10189 [00:37<00:00, 270.67it/s]\n",
            "100%|██████████| 10189/10189 [00:26<00:00, 391.62it/s]\n"
          ]
        },
        {
          "output_type": "stream",
          "name": "stdout",
          "text": [
            "\n",
            "Unique languages (excluding math-heavy): 17\n",
            "Language counts:\n",
            " language_final\n",
            "en            8820\n",
            "math-heavy    1340\n",
            "hr               8\n",
            "es               3\n",
            "de               3\n",
            "ro               2\n",
            "fr               2\n",
            "no               1\n",
            "sl               1\n",
            "hu               1\n",
            "da               1\n",
            "pt               1\n",
            "nl               1\n",
            "id               1\n",
            "it               1\n",
            "ca               1\n",
            "af               1\n",
            "so               1\n",
            "Name: count, dtype: int64\n"
          ]
        },
        {
          "output_type": "display_data",
          "data": {
            "text/plain": [
              "<Figure size 640x480 with 1 Axes>"
            ],
            "image/png": "[encoded data removed]"
          },
          "metadata": {}
        }
      ],
      "source": [
        "!pip install pylatexenc\n",
        "import re\n",
        "import matplotlib.pyplot as plt\n",
        "import seaborn as sns\n",
        "from langdetect import detect, DetectorFactory\n",
        "from pylatexenc.latex2text import LatexNodes2Text\n",
        "from tqdm import tqdm\n",
        "\n",
        "DetectorFactory.seed = 0  # reproducibility\n",
        "\n",
        "# --- Clean LaTeX ---\n",
        "def clean_latex(text):\n",
        "    if not isinstance(text, str):\n",
        "        return text\n",
        "    text = LatexNodes2Text().latex_to_text(text)\n",
        "    text = re.sub(r'sqrt\\{([^{}]+)\\}|sqrt\\(([^()]+)\\)', r'square root of (\\1\\2)', text)\n",
        "    text = re.sub(r'frac\\{([^{}]+)\\}\\{([^{}]+)\\}|frac\\(([^()]+)\\)\\(([^()]+)\\)', r'(\\1\\2) divided by (\\3\\4)', text)\n",
        "    text = re.sub(r'\\^\\{([^{}]+)\\}|\\^(\\d+)', r' to the power of \\1\\2', text)\n",
        "    text = re.sub(r'[\\$\\\\]', '', text)\n",
        "    return re.sub(r'\\s+', ' ', text).strip()\n",
        "\n",
        "# --- Helper functions ---\n",
        "def clean_for_langdetect(text):\n",
        "    return re.sub(r'[^A-Za-z\\s]', '', re.sub(r'\\$.*?\\$', '', text))\n",
        "\n",
        "def non_alpha_ratio(text):\n",
        "    total = len(text)\n",
        "    alpha = len(re.findall(r'[A-Za-z]', text))\n",
        "    return 1 if total == 0 else (total - alpha) / total\n",
        "\n",
        "# --- Apply cleaning ---\n",
        "tqdm.pandas()\n",
        "train_df['question_text_cleaned'] = train_df['Question'].astype(str).progress_apply(clean_latex)\n",
        "train_df['language_cleaned'] = train_df['question_text_cleaned'].apply(clean_for_langdetect)\n",
        "train_df['non_alpha_ratio'] = train_df['question_text_cleaned'].apply(non_alpha_ratio)\n",
        "train_df['is_math_heavy'] = train_df['non_alpha_ratio'] > 0.5\n",
        "\n",
        "# --- Detect language ---\n",
        "def detect_lang(row):\n",
        "    if row['is_math_heavy']:\n",
        "        return 'math-heavy'\n",
        "    text = row['language_cleaned']\n",
        "    return detect(text) if text.strip() else \"unknown\"\n",
        "\n",
        "train_df['language_final'] = train_df.progress_apply(detect_lang, axis=1)\n",
        "\n",
        "# --- Plot ---\n",
        "lang_counts = train_df['language_final'].value_counts()\n",
        "print(f\"\\nUnique languages (excluding math-heavy): {lang_counts[lang_counts.index != 'math-heavy'].count()}\")\n",
        "print(\"Language counts:\\n\", lang_counts)\n",
        "\n",
        "sns.barplot(x=lang_counts.index, y=lang_counts.values)\n",
        "plt.title(\"Detected Languages (Math-Heavy Filtered)\")\n",
        "plt.ylabel(\"Frequency\")\n",
        "plt.show()\n",
        "\n"
      ]
    },
    {
      "cell_type": "code",
      "execution_count": 79,
      "metadata": {
        "id": "3S8DXD00E_8H",
        "colab": {
          "base_uri": "https://localhost:8080/"
        },
        "outputId": "4fe2f24f-1945-40fc-eb43-0aac30af99d4"
      },
      "outputs": [
        {
          "output_type": "stream",
          "name": "stdout",
          "text": [
            "\n",
            "First two math-heavy questions:\n",
            "1: b'Let i be (-45)/72 + (-1389)/(-8). Solve i = -6*u + 149 for u.\\n'\n",
            "2: Let $x=\\frac{4}{(\\sqrt{5}+1)(\\sqrt[4]{5}+1)(\\sqrt[8]{5}+1)(\\sqrt[16]{5}+1)}.$ Find $(x+1)^{48}.$\n",
            "\n",
            "First two questions for each other language (excluding English and math-heavy):\n",
            "\n",
            "Language: fr\n",
            "1: 16. Assemble a square using four $1 \\times 1$ square tiles, eight $2 \\times 2$ square tiles, twelve $3 \\times 3$ square tiles, and sixteen $4 \\times 4$ square tiles.\n",
            "2: 2. (6 points) $\\square \\square \\square \\square \\square+\\bigcirc \\bigcirc O=39$ liters\n",
            "■■■+○○○=27 liters\n",
            "■ represents $\\qquad$ liters, ○ represents $\\qquad$ liters.\n",
            "\n",
            "Language: hr\n",
            "1: 5. Bacamo istovremeno četiri simetrična novčića (za simetričan novčić vjerojatnosti da će pasti pismo ili glava su jednake). Kolika je vjerojatnost da su pri jednom bacanju ta četiri novčića pala dva pisma i dvije glave?\n",
            "\n",
            "## Zadaci za 10 bodova:\n",
            "\n",
            "Translates to:\n",
            "\n",
            "5. We toss four symmetrical coins simultaneously (for a symmetrical coin, the probabilities of landing heads or tails are equal). What is the probability that two heads and two tails will appear when these four coins are tossed once?\n",
            "\n",
            "## Problems worth 10 points:\n",
            "2: ## Zadatak B-1.3.\n",
            "\n",
            "U trokutu $A B C$ mjera kuta pri vrhu $A$ iznosi $60^{\\circ}$ a mjera kuta pri vrhu $B$ iznosi $45^{\\circ}$. Ako duljina stranice $\\overline{A C}$ iznosi $8 \\mathrm{~cm}$, izračunajte opseg trokuta $A B C$.\n",
            "\n",
            "## Rjesenje.\n",
            "\n",
            "Neka je $|B C|=a,|A C|=b=8,|A B|=c$, a neka je $|C D|=v$ (visina iz vrha $C$ ).\n",
            "\n",
            "Mjera kuta pri vrhu $C$ iznosi $180^{\\circ}-\\left(60^{\\circ}+45^{\\circ}\\right)=75^{\\circ}$.\n",
            "\n",
            "Trokut $A D C$ je pola jednakostraničnog trokuta.\n",
            "\n",
            "1 bod\n",
            "\n",
            "Trokut $B C D$ je jednakokračan pravokutan trokut, pa je $|B D|=|C D|$. 1 bod\n",
            "\n",
            "![](https://cdn.mathpix.com/cropped/2024_05_30_bbee2d45ecbf3fd03f8eg-03.jpg?height=642&width=922&top_left_y=587&top_left_x=493)\n",
            "\n",
            "Slijedi\n",
            "\n",
            "$$\n",
            "|A D|=4 \\mathrm{~cm}, \\quad v=|C D|=\\frac{8 \\sqrt{3}}{2}=4 \\sqrt{3} \\mathrm{~cm}\n",
            "$$\n",
            "\n",
            "Tada su duljine preostalih stranica: $|A B|=|A D|+|D B|=(4+4 \\sqrt{3}) \\mathrm{cm},|B C|=$ $v \\sqrt{2}=4 \\sqrt{6} \\mathrm{~cm}$.\n",
            "\n",
            "Opseg trokuta $A B C$ iznosi\n",
            "\n",
            "$$\n",
            "o=8+(4+4 \\sqrt{3})+4 \\sqrt{6}=4(3+\\sqrt{3}+\\sqrt{6}) \\mathrm{cm}\n",
            "$$\n",
            "\n",
            "## Zadatak B-1.4\n",
            "\n",
            "S koliko nula završava broj koji se dobije množenjem prvih 2016 prirodnih brojeva?\n",
            "\n",
            "\n",
            "\n",
            "Language: ro\n",
            "1: ## SUBIECTUL I\n",
            "\n",
            "a) Demonstrați că $\\frac{n}{k(k+n)}=\\frac{1}{k}-\\frac{1}{k+n}$, pentru orice $\\mathrm{k}$ și $\\mathrm{n}$ numere naturale.\n",
            "\n",
            "b) Determinați numărul natural nenul $n$ pentru care\n",
            "\n",
            "$$\n",
            "\\frac{1}{56 \\cdot 57}+\\frac{2}{57 \\cdot 59}+\\frac{3}{59 \\cdot 62}+\\cdots+\\frac{62}{n(n+62)}=\\frac{2015}{115976}\n",
            "$$\n",
            "\n",
            "Supliment Gazeta Matematică /2013\n",
            "\n",
            "2: Example 1. Find $\\lim _{x \\rightarrow 0} \\frac{\\ln (1+\\alpha x)}{\\sin \\beta x}$.\n",
            "\n",
            "Language: no\n",
            "1: Let $k$ be a nonnegative integer. Evaluate \\[ \\sum_{j=0}^k 2^{k-j} \\binom{k+j}{j}. \\]\n",
            "\n",
            "Language: es\n",
            "1: Example 5 Simplify $\\frac{\\sin x+\\sin 3 x+\\sin 5 x+\\cdots+\\sin (2 n-1) x}{\\cos x+\\cos 3 x+\\cos 5 x+\\cdots+\\cos (2 n-1) x}$.\n",
            "2: 6 、 Calculate the value of $\\cos \\frac{2 \\pi}{7} \\cos \\frac{4 \\pi}{7} \\cos \\frac{6 \\pi}{7}$ is $\\qquad$ .\n",
            "\n",
            "Language: hu\n",
            "1: Oldjuk meg az\n",
            "\n",
            "$$\n",
            "\\begin{aligned}\n",
            "x+y+z & =2 \\\\\n",
            "x y z & =2(x y+y z+z x)\n",
            "\\end{aligned}\n",
            "$$\n",
            "\n",
            "egyenletrendszert a valós számok halmazán.\n",
            "\n",
            "\n",
            "\n",
            "Language: sl\n",
            "1: \n",
            "5. Dana je premica z enačbo $2 x-3 y+15=0$ in točka $T(3, y)$ na njej. Izračunaj $x$, tako da bo razdalja med točkama $A(x, 4)$ in $T$ enaka $3 \\sqrt{5}$.\n",
            "\n",
            "# dUFA \n",
            "\n",
            "12. tekmovanje v znanjumatematike za dijake srednjihtehniških in strokovnih šolDržavno tekmovanje, 21. april 2012\n",
            "\n",
            "Čas reševanja: 120 minut.\n",
            "\n",
            "![](https://cdn.mathpix.com/cropped/2024_06_07_97c791425a4f6cf5fca5g-04.jpg?height=172&width=411&top_left_y=371&top_left_x=1502)\n",
            "\n",
            "\n",
            "Language: da\n",
            "1: Determine the value of $\\left(\\log _{2} 4\\right)\\left(\\log _{4} 6\\right)\\left(\\log _{6} 8\\right)$.\n",
            "\n",
            "Language: de\n",
            "1: ## 65. Matheknobelei 10/70\n",
            "\n",
            "Die Seiten eines Rechtecks werden durch ganze Zahlen dargestellt. Wie lang müssen die Seiten sein, damit der Umfang des Rechtecks zahlenmäßig gleich dem Flächeninhalt ist?\n",
            "\n",
            "\n",
            "2: ## Aufgabe 1 - 231221\n",
            "\n",
            "Ist $\\left(a_{n}\\right)$ eine Folge reeller Zahlen, so bezeichne $s_{n}$ ihre $n$-te Partialsumme:\n",
            "\n",
            "$$\n",
            "s_{n}=\\sum_{k=1}^{n} a_{k}\n",
            "$$\n",
            "\n",
            "Man ermittle\n",
            "\n",
            "a) von jeder arithmetischen Folge $\\left(a_{n}\\right)$, für die $s_{4}=15$ und $s_{8}=255$ gilt,\n",
            "\n",
            "b) von jeder geometrischen Folge $\\left(a_{n}\\right)$, für die $s_{4}=15$ und $s_{8}=255$ gilt, die ersten fünf Glieder $a_{1}, a_{2}, \\ldots, a_{5}$.\n",
            "\n",
            "\n",
            "\n",
            "Language: pt\n",
            "1: 2. Solve the equation $\\cos x \\cos 2x \\cos 4x \\cos 8x = \\frac{1}{16}$.\n",
            "\n",
            "Language: nl\n",
            "1: How many zeroes does $10!$ end in, when written in base 11?\n",
            "\n",
            "Language: id\n",
            "1: If 4 daps = 7 yaps, and 5 yaps = 3 baps, how many daps equal 42 baps?\n",
            "\n",
            "Language: it\n",
            "1: Find all even primes.\n",
            "\n",
            "Language: ca\n",
            "1: A trader mixes 70%, 64%, and 50% vinegar to make 560 liters of 60% vinegar; how does he mix them if he takes whole liters of each type of vinegar for the mixture?\n",
            "\n",
            "Language: af\n",
            "1: 1. If $p(x)$ is an $n$-degree polynomial, and satisfies $p(k)=\\frac{k}{k+1}(k=0,1, \\cdots, n)$, find $p(n+1)$.\n",
            "\n",
            "Language: so\n",
            "1: Example 6. Find $\\lim _{x \\rightarrow 0} \\frac{\\tan x}{x}$.\n"
          ]
        }
      ],
      "source": [
        "\n",
        "# --- Print first two math-heavy questions ---\n",
        "math_heavy_samples = train_df[train_df['is_math_heavy']]['Question'].head(2)\n",
        "print(\"\\nFirst two math-heavy questions:\")\n",
        "for idx, text in enumerate(math_heavy_samples, 1):\n",
        "    print(f\"{idx}: {text}\")\n",
        "\n",
        "# --- Print first two questions for each other language (excluding 'en' and 'math-heavy') ---\n",
        "other_langs = train_df[\n",
        "    ~train_df['language_final'].isin(['en', 'math-heavy'])\n",
        "]['language_final'].unique()\n",
        "\n",
        "print(\"\\nFirst two questions for each other language (excluding English and math-heavy):\")\n",
        "for lang in other_langs:\n",
        "    samples = train_df[train_df['language_final'] == lang]['Question'].head(2)\n",
        "    print(f\"\\nLanguage: {lang}\")\n",
        "    for idx, text in enumerate(samples, 1):\n",
        "        print(f\"{idx}: {text}\")\n"
      ]
    },
    {
      "cell_type": "markdown",
      "metadata": {
        "id": "w8uXpgA8POlM"
      },
      "source": [
        "**Exploring Math-Heavy and Multilingual Questions**"
      ]
    },
    {
      "cell_type": "code",
      "execution_count": 80,
      "metadata": {
        "id": "m6qHJhnlFYYp",
        "colab": {
          "base_uri": "https://localhost:8080/"
        },
        "outputId": "81626026-3a25-486d-9ad6-45082b873fc4"
      },
      "outputs": [
        {
          "output_type": "stream",
          "name": "stdout",
          "text": [
            "\n",
            "Inspecting suspect languages for possible English content:\n",
            "\n",
            "Language: so\n",
            "1: Example 6. Find $\\lim _{x \\rightarrow 0} \\frac{\\tan x}{x}$.\n",
            "\n",
            "Language: af\n",
            "1: 1. If $p(x)$ is an $n$-degree polynomial, and satisfies $p(k)=\\frac{k}{k+1}(k=0,1, \\cdots, n)$, find $p(n+1)$.\n",
            "\n",
            "Language: ca\n",
            "1: A trader mixes 70%, 64%, and 50% vinegar to make 560 liters of 60% vinegar; how does he mix them if he takes whole liters of each type of vinegar for the mixture?\n",
            "\n",
            "Language: it\n",
            "1: Find all even primes.\n",
            "\n",
            "Language: nl\n",
            "1: How many zeroes does $10!$ end in, when written in base 11?\n",
            "\n",
            "Language: pt\n",
            "1: 2. Solve the equation $\\cos x \\cos 2x \\cos 4x \\cos 8x = \\frac{1}{16}$.\n",
            "\n",
            "Language: da\n",
            "1: Determine the value of $\\left(\\log _{2} 4\\right)\\left(\\log _{4} 6\\right)\\left(\\log _{6} 8\\right)$.\n",
            "\n",
            "Language: es\n",
            "1: Example 5 Simplify $\\frac{\\sin x+\\sin 3 x+\\sin 5 x+\\cdots+\\sin (2 n-1) x}{\\cos x+\\cos 3 x+\\cos 5 x+\\cdots+\\cos (2 n-1) x}$.\n",
            "2: 6 、 Calculate the value of $\\cos \\frac{2 \\pi}{7} \\cos \\frac{4 \\pi}{7} \\cos \\frac{6 \\pi}{7}$ is $\\qquad$ .\n",
            "3: 7. If $\\tan 4 x=$\n",
            "$$\n",
            "\\frac{\\sqrt{3}}{3} \\text {, then } \\frac{\\sin 4 x}{\\cos 8 x \\cos 4 x}+\\frac{\\sin 2 x}{\\cos 4 x \\cos 2 x}+\\frac{\\sin x}{\\cos 2 x \\cos x}+\\frac{\\sin x}{\\cos x}=\n",
            "$$\n",
            "$\\qquad$\n",
            "\n",
            "Language: no\n",
            "1: Let $k$ be a nonnegative integer. Evaluate \\[ \\sum_{j=0}^k 2^{k-j} \\binom{k+j}{j}. \\]\n",
            "\n",
            "Language: fr\n",
            "1: 16. Assemble a square using four $1 \\times 1$ square tiles, eight $2 \\times 2$ square tiles, twelve $3 \\times 3$ square tiles, and sixteen $4 \\times 4$ square tiles.\n",
            "2: 2. (6 points) $\\square \\square \\square \\square \\square+\\bigcirc \\bigcirc O=39$ liters\n",
            "■■■+○○○=27 liters\n",
            "■ represents $\\qquad$ liters, ○ represents $\\qquad$ liters.\n"
          ]
        }
      ],
      "source": [
        "# Languages suspected of being misclassified\n",
        "suspect_langs = ['so', 'af', 'ca', 'it', 'nl', 'pt', 'da', 'es', 'no', 'fr']\n",
        "\n",
        "print(\"\\nInspecting suspect languages for possible English content:\")\n",
        "for lang in suspect_langs:\n",
        "    samples = train_df[train_df['language_final'] == lang]['Question'].head(5)\n",
        "    print(f\"\\nLanguage: {lang}\")\n",
        "    for idx, text in enumerate(samples, 1):\n",
        "        print(f\"{idx}: {text}\")\n"
      ]
    },
    {
      "cell_type": "markdown",
      "metadata": {
        "id": "K1VjMAKqPdUq"
      },
      "source": [
        "*The math-heavy questions are typically rich in equations and symbols, confirming that the is_math_heavy tag captures mathematically dense content. When browsing other languages, It is noticed that many questions still involve math problems but in different linguistic and cultural contexts (e.g., Slovenian, Danish, German). This highlights the dataset's dual complexity: it spans both mathematical difficulty and linguistic diversity. Such patterns are essential to consider for any downstream NLP task, especially for multilingual or math-focused language models.*"
      ]
    },
    {
      "cell_type": "markdown",
      "metadata": {
        "id": "jbUm4pl6QAPV"
      },
      "source": [
        " *It observed that some text samples are misclassified as non-English (e.g., 'fr', 'it', 'es') despite being English. To correct this, we identify a list of suspect languages where misclassification is common and relabel them as English. This ensures more accurate downstream processing.\n",
        "This correction step improves language labeling by reclassifying likely errors as 'en'. It helps prevent non-English labels from skewing results when the actual content is English. We assume that most samples in the suspect list are misclassifications rather than true foreign-language texts.*"
      ]
    },
    {
      "cell_type": "code",
      "execution_count": 81,
      "metadata": {
        "id": "Gs-1Fl4QFfMH"
      },
      "outputs": [],
      "source": [
        "def fix_misclassified_lang(row):\n",
        "    suspect_langs = ['so', 'af', 'ca', 'it', 'nl', 'pt', 'da', 'es', 'no', 'fr']\n",
        "    if row['language_final'] in suspect_langs:\n",
        "        # Optional: Add more checks here if needed (like word count >5 to avoid forcing math-heavy)\n",
        "        return 'en'\n",
        "    return row['language_final']\n",
        "\n",
        "train_df['language_final_fixed'] = train_df.apply(fix_misclassified_lang, axis=1)\n"
      ]
    },
    {
      "cell_type": "markdown",
      "metadata": {
        "id": "CDH4GrcgQvkh"
      },
      "source": [
        "*the language_final_fixed column to inspect the distribution of languages after applying heuristic fixes to the data. This helps verify whether the language detection and correction steps worked as expected, and shows the balance of different languages present in the dataset.*\n",
        "Interpretation:\n",
        "\n",
        "*The output indicates that the vast majority of samples (8,833) are in English (en), followed by a substantial group labeled as math-heavy (1,340). The remaining languages (e.g., Croatian hr, German de, Romanian ro, Hungarian hu, Slovenian sl, and Indonesian id) appear in very small numbers (between 1 and 8 instances each). This strong imbalance suggests that the dataset is predominantly English with a secondary emphasis on math-heavy content, while other languages are rare. These insights can guide preprocessing and modeling choices, for example by focusing efforts primarily on English data or deciding how to handle underrepresented languages.*"
      ]
    },
    {
      "cell_type": "code",
      "execution_count": 82,
      "metadata": {
        "id": "TpK7oy_OFyER",
        "colab": {
          "base_uri": "https://localhost:8080/"
        },
        "outputId": "83a9799c-dcfa-4ba7-d032-72a9c6164495"
      },
      "outputs": [
        {
          "output_type": "stream",
          "name": "stdout",
          "text": [
            "\n",
            "Language counts after heuristic fixing:\n",
            "language_final_fixed\n",
            "en            8833\n",
            "math-heavy    1340\n",
            "hr               8\n",
            "de               3\n",
            "ro               2\n",
            "hu               1\n",
            "sl               1\n",
            "id               1\n",
            "Name: count, dtype: int64\n",
            "<class 'pandas.core.frame.DataFrame'>\n",
            "RangeIndex: 10189 entries, 0 to 10188\n",
            "Data columns (total 9 columns):\n",
            " #   Column                 Non-Null Count  Dtype  \n",
            "---  ------                 --------------  -----  \n",
            " 0   Question               10189 non-null  object \n",
            " 1   label                  10189 non-null  int64  \n",
            " 2   char_length            10189 non-null  int64  \n",
            " 3   question_text_cleaned  10189 non-null  object \n",
            " 4   language_cleaned       10189 non-null  object \n",
            " 5   non_alpha_ratio        10189 non-null  float64\n",
            " 6   is_math_heavy          10189 non-null  bool   \n",
            " 7   language_final         10189 non-null  object \n",
            " 8   language_final_fixed   10189 non-null  object \n",
            "dtypes: bool(1), float64(1), int64(2), object(5)\n",
            "memory usage: 646.9+ KB\n"
          ]
        }
      ],
      "source": [
        "lang_counts_fixed = train_df['language_final_fixed'].value_counts()\n",
        "print(\"\\nLanguage counts after heuristic fixing:\")\n",
        "print(lang_counts_fixed)\n",
        "train_df.info()\n"
      ]
    },
    {
      "cell_type": "code",
      "execution_count": 83,
      "metadata": {
        "id": "KqKMGmk3HREx",
        "colab": {
          "base_uri": "https://localhost:8080/"
        },
        "outputId": "75650069-3fca-4684-c680-08c99d3b2196"
      },
      "outputs": [
        {
          "output_type": "stream",
          "name": "stderr",
          "text": [
            "[nltk_data] Downloading package punkt to /root/nltk_data...\n",
            "[nltk_data]   Package punkt is already up-to-date!\n",
            "[nltk_data] Downloading package punkt_tab to /root/nltk_data...\n",
            "[nltk_data]   Package punkt_tab is already up-to-date!\n",
            "[nltk_data] Downloading package stopwords to /root/nltk_data...\n",
            "[nltk_data]   Package stopwords is already up-to-date!\n",
            "[nltk_data] Downloading package wordnet to /root/nltk_data...\n",
            "[nltk_data]   Package wordnet is already up-to-date!\n"
          ]
        },
        {
          "output_type": "stream",
          "name": "stdout",
          "text": [
            "<class 'pandas.core.frame.DataFrame'>\n",
            "RangeIndex: 10173 entries, 0 to 10172\n",
            "Data columns (total 2 columns):\n",
            " #   Column    Non-Null Count  Dtype \n",
            "---  ------    --------------  ----- \n",
            " 0   Question  10173 non-null  object\n",
            " 1   label     10173 non-null  int64 \n",
            "dtypes: int64(1), object(1)\n",
            "memory usage: 159.1+ KB\n",
            "None\n",
            "                                            Question  label\n",
            "0  solitaire game played follows . six distinct p...      3\n"
          ]
        }
      ],
      "source": [
        "import re\n",
        "import nltk\n",
        "from nltk.corpus import stopwords\n",
        "from nltk.stem import WordNetLemmatizer\n",
        "\n",
        "# Download the 'punkt' and 'punkt_tab' resources\n",
        "nltk.download('punkt')\n",
        "nltk.download('punkt_tab') # This line is added to download Punkt tab data\n",
        "nltk.download('stopwords')\n",
        "nltk.download('wordnet')\n",
        "\n",
        "# Initialize stopwords and lemmatizer\n",
        "stop_words = set(stopwords.words('english'))\n",
        "lemmatizer = WordNetLemmatizer()\n",
        "\n",
        "# Filter the DataFrame to only 'en' and 'math-heavy'\n",
        "train_df = train_df[train_df['language_final_fixed'].isin(['en', 'math-heavy'])].copy()\n",
        "\n",
        "def clean_text(text):\n",
        "    # 1️⃣ Lowercase\n",
        "    text = text.lower()\n",
        "\n",
        "    # 2️⃣ Replace LaTeX/math expressions with plain text equivalents\n",
        "    # Remove inline math ($...$)\n",
        "    text = re.sub(r'\\$(.*?)\\$', r'\\1', text)\n",
        "    # Remove display math (\\[...\\] or $$...$$)\n",
        "    text = re.sub(r'\\\\\\[(.*?)\\\\\\]', r'\\1', text)\n",
        "    text = re.sub(r'\\$\\$(.*?)\\$\\$', r'\\1', text)\n",
        "    # Remove LaTeX commands like \\frac{a}{b}, keep as 'a divided by b'\n",
        "    text = re.sub(r'\\\\frac\\{(.*?)\\}\\{(.*?)\\}', r'\\1 divided by \\2', text)\n",
        "    # Remove other LaTeX commands like \\sqrt{...}\n",
        "    text = re.sub(r'\\\\sqrt\\{(.*?)\\}', r'square root of \\1', text)\n",
        "    # Remove any remaining LaTeX commands like \\begin{...} etc.\n",
        "    text = re.sub(r'\\\\[a-zA-Z]+\\{(.*?)\\}', r'\\1', text)\n",
        "    text = re.sub(r'\\\\[a-zA-Z]+', '', text)\n",
        "\n",
        "    # 3️⃣ Remove non-alphanumeric chars except basic math ops\n",
        "    text = re.sub(r'[^a-z0-9+\\-*/=(). ]+', ' ', text)\n",
        "\n",
        "    # 4️⃣ Tokenize\n",
        "    tokens = nltk.word_tokenize(text)\n",
        "\n",
        "    # 5️⃣ Remove stopwords and lemmatize\n",
        "    tokens = [lemmatizer.lemmatize(word) for word in tokens if word not in stop_words]\n",
        "\n",
        "    # 6️⃣ Re-join\n",
        "    return ' '.join(tokens)\n",
        "\n",
        "# Apply cleaning to the Question column\n",
        "train_df['Question'] = train_df['Question'].apply(clean_text)\n",
        "test_df['Question'] = test_df['Question'].apply(clean_text)\n",
        "\n",
        "# Keep only the 'Question' column\n",
        "train_df = train_df[['Question', 'label']].reset_index(drop=True)\n",
        "\n",
        "# ✅ Print to confirm\n",
        "print(train_df.info())\n",
        "print(train_df.head(1))"
      ]
    },
    {
      "cell_type": "markdown",
      "source": [
        " **Feature enginering**"
      ],
      "metadata": {
        "id": "V5MEHWqpNvw7"
      }
    },
    {
      "cell_type": "code",
      "source": [
        "from sklearn.feature_extraction.text import TfidfVectorizer\n",
        "\n",
        "tfidf = TfidfVectorizer(\n",
        "    max_features=20000,           # Increase features to capture more patterns\n",
        "    ngram_range=(1, 3),           # Add trigrams (captures more context)\n",
        "    stop_words='english',         # Remove common English stopwords\n",
        "    lowercase=True,               # Ensure all text is lowercased\n",
        "    strip_accents='unicode',      # Normalize accented characters\n",
        "    sublinear_tf=True,            # Apply sublinear TF scaling (logarithmic)\n",
        "    norm='l2'                    # Normalize feature vectors\n",
        ")\n",
        "\n",
        "X_text = tfidf.fit_transform(train_df['Question'])\n",
        "X_test_text = tfidf.transform(test_df['Question'])\n",
        "y = train_df['label']"
      ],
      "metadata": {
        "id": "tWKM1a42N2Lv"
      },
      "execution_count": 84,
      "outputs": []
    },
    {
      "cell_type": "code",
      "source": [
        "from imblearn.over_sampling import RandomOverSampler\n",
        "\n",
        "ros = RandomOverSampler(random_state=42)\n",
        "X_resampled, y_resampled = ros.fit_resample(X_combined, y)\n",
        "\n",
        "print(f\"Before upsampling: {dict(pd.Series(y).value_counts())}\")\n",
        "print(f\"After upsampling:  {dict(pd.Series(y_resampled).value_counts())}\")\n"
      ],
      "metadata": {
        "colab": {
          "base_uri": "https://localhost:8080/"
        },
        "id": "7IyD3OQFOWo3",
        "outputId": "c276d54c-c249-48bb-d7f9-97cad2f32313"
      },
      "execution_count": 86,
      "outputs": [
        {
          "output_type": "stream",
          "name": "stdout",
          "text": [
            "Before upsampling: {0: np.int64(2614), 1: np.int64(2433), 5: np.int64(1827), 4: np.int64(1710), 2: np.int64(1036), 3: np.int64(367), 6: np.int64(100), 7: np.int64(86)}\n",
            "After upsampling:  {3: np.int64(2614), 5: np.int64(2614), 0: np.int64(2614), 1: np.int64(2614), 2: np.int64(2614), 4: np.int64(2614), 7: np.int64(2614), 6: np.int64(2614)}\n"
          ]
        }
      ]
    },
    {
      "cell_type": "code",
      "source": [
        "from sklearn.preprocessing import LabelEncoder\n",
        "\n",
        "le = LabelEncoder()\n",
        "y_encoded = le.fit_transform(y_resampled)"
      ],
      "metadata": {
        "id": "FaArSqPbEsEj"
      },
      "execution_count": 87,
      "outputs": []
    },
    {
      "cell_type": "code",
      "source": [
        "from sklearn.model_selection import train_test_split # Import train_test_split\n",
        "\n",
        "X_train, X_val, y_train, y_val = train_test_split(X_resampled, y_resampled, test_size=0.2, random_state=42)"
      ],
      "metadata": {
        "id": "hlR1B4iTE-MA"
      },
      "execution_count": 89,
      "outputs": []
    },
    {
      "cell_type": "code",
      "source": [
        "import lightgbm as lgb\n",
        "from sklearn.model_selection import StratifiedKFold\n",
        "from sklearn.metrics import f1_score\n",
        "\n",
        "def kfold_lgbm(X, y, n_splits=5):\n",
        "    oof_preds = np.zeros(len(y), dtype=int)\n",
        "    models = []\n",
        "    f1_micro_scores = []\n",
        "\n",
        "    skf = StratifiedKFold(n_splits=n_splits, shuffle=True, random_state=42)\n",
        "\n",
        "    for fold, (train_idx, val_idx) in enumerate(skf.split(X, y)):\n",
        "        print(f\"\\nFold {fold + 1}\")\n",
        "        X_train, X_val = X[train_idx], X[val_idx]\n",
        "        y_train, y_val = y[train_idx], y[val_idx]\n",
        "\n",
        "        model = lgb.LGBMClassifier(\n",
        "            objective='multiclass',\n",
        "            num_class=len(np.unique(y)),\n",
        "            learning_rate=0.1,\n",
        "            n_estimators=100,\n",
        "            class_weight='balanced',\n",
        "            random_state=42\n",
        "        )\n",
        "\n",
        "        model.fit(X_train, y_train)\n",
        "        preds = model.predict(X_val)\n",
        "        oof_preds[val_idx] = preds\n",
        "\n",
        "        f1_m = f1_score(y_val, preds, average='micro')\n",
        "        print(f\"F1 Micro: {f1_m:.4f}\")\n",
        "\n",
        "        f1_micro_scores.append(f1_m)\n",
        "        models.append(model)\n",
        "\n",
        "    overall_f1_m = f1_score(y, oof_preds, average='micro')\n",
        "    print(f\"\\nOverall OOF F1 Micro: {overall_f1_m:.4f}\")\n",
        "\n",
        "    return {\n",
        "        'models': models,\n",
        "        'oof_preds': oof_preds,\n",
        "        'fold_f1_micro': f1_micro_scores,\n",
        "        'overall_f1_micro': overall_f1_m\n",
        "    }\n"
      ],
      "metadata": {
        "id": "miMQ996NFP2w"
      },
      "execution_count": 90,
      "outputs": []
    },
    {
      "cell_type": "code",
      "source": [
        "import lightgbm as lgb\n",
        "from sklearn.model_selection import StratifiedKFold\n",
        "from sklearn.metrics import f1_score\n",
        "import numpy as np # Import numpy\n",
        "results_lgbm = kfold_lgbm(X_resampled, y_encoded) # Changed X_resampled_sparse to X_resampled"
      ],
      "metadata": {
        "colab": {
          "base_uri": "https://localhost:8080/"
        },
        "id": "CGRjLQ8bFbcZ",
        "outputId": "0d46b5f8-57e4-401f-f203-c7313102e631"
      },
      "execution_count": 93,
      "outputs": [
        {
          "output_type": "stream",
          "name": "stdout",
          "text": [
            "\n",
            "Fold 1\n"
          ]
        },
        {
          "output_type": "stream",
          "name": "stderr",
          "text": [
            "/usr/local/lib/python3.11/dist-packages/sklearn/utils/deprecation.py:151: FutureWarning: 'force_all_finite' was renamed to 'ensure_all_finite' in 1.6 and will be removed in 1.8.\n",
            "  warnings.warn(\n"
          ]
        },
        {
          "output_type": "stream",
          "name": "stdout",
          "text": [
            "[LightGBM] [Info] Auto-choosing row-wise multi-threading, the overhead of testing was 1.556728 seconds.\n",
            "You can set `force_row_wise=true` to remove the overhead.\n",
            "And if memory is not enough, you can set `force_col_wise=true`.\n",
            "[LightGBM] [Info] Total Bins 55328\n",
            "[LightGBM] [Info] Number of data points in the train set: 16729, number of used features: 3017\n",
            "[LightGBM] [Info] Start training from score -2.079442\n",
            "[LightGBM] [Info] Start training from score -2.079442\n",
            "[LightGBM] [Info] Start training from score -2.079441\n",
            "[LightGBM] [Info] Start training from score -2.079442\n",
            "[LightGBM] [Info] Start training from score -2.079442\n",
            "[LightGBM] [Info] Start training from score -2.079442\n",
            "[LightGBM] [Info] Start training from score -2.079442\n",
            "[LightGBM] [Info] Start training from score -2.079442\n"
          ]
        },
        {
          "output_type": "stream",
          "name": "stderr",
          "text": [
            "/usr/local/lib/python3.11/dist-packages/sklearn/utils/deprecation.py:151: FutureWarning: 'force_all_finite' was renamed to 'ensure_all_finite' in 1.6 and will be removed in 1.8.\n",
            "  warnings.warn(\n"
          ]
        },
        {
          "output_type": "stream",
          "name": "stdout",
          "text": [
            "F1 Micro: 0.9060\n",
            "\n",
            "Fold 2\n"
          ]
        },
        {
          "output_type": "stream",
          "name": "stderr",
          "text": [
            "/usr/local/lib/python3.11/dist-packages/sklearn/utils/deprecation.py:151: FutureWarning: 'force_all_finite' was renamed to 'ensure_all_finite' in 1.6 and will be removed in 1.8.\n",
            "  warnings.warn(\n"
          ]
        },
        {
          "output_type": "stream",
          "name": "stdout",
          "text": [
            "[LightGBM] [Info] Auto-choosing row-wise multi-threading, the overhead of testing was 0.682265 seconds.\n",
            "You can set `force_row_wise=true` to remove the overhead.\n",
            "And if memory is not enough, you can set `force_col_wise=true`.\n",
            "[LightGBM] [Info] Total Bins 55398\n",
            "[LightGBM] [Info] Number of data points in the train set: 16729, number of used features: 3023\n",
            "[LightGBM] [Info] Start training from score -2.079442\n",
            "[LightGBM] [Info] Start training from score -2.079441\n",
            "[LightGBM] [Info] Start training from score -2.079442\n",
            "[LightGBM] [Info] Start training from score -2.079442\n",
            "[LightGBM] [Info] Start training from score -2.079442\n",
            "[LightGBM] [Info] Start training from score -2.079442\n",
            "[LightGBM] [Info] Start training from score -2.079442\n",
            "[LightGBM] [Info] Start training from score -2.079442\n"
          ]
        },
        {
          "output_type": "stream",
          "name": "stderr",
          "text": [
            "/usr/local/lib/python3.11/dist-packages/sklearn/utils/deprecation.py:151: FutureWarning: 'force_all_finite' was renamed to 'ensure_all_finite' in 1.6 and will be removed in 1.8.\n",
            "  warnings.warn(\n"
          ]
        },
        {
          "output_type": "stream",
          "name": "stdout",
          "text": [
            "F1 Micro: 0.9113\n",
            "\n",
            "Fold 3\n"
          ]
        },
        {
          "output_type": "stream",
          "name": "stderr",
          "text": [
            "/usr/local/lib/python3.11/dist-packages/sklearn/utils/deprecation.py:151: FutureWarning: 'force_all_finite' was renamed to 'ensure_all_finite' in 1.6 and will be removed in 1.8.\n",
            "  warnings.warn(\n"
          ]
        },
        {
          "output_type": "stream",
          "name": "stdout",
          "text": [
            "[LightGBM] [Info] Auto-choosing row-wise multi-threading, the overhead of testing was 0.635346 seconds.\n",
            "You can set `force_row_wise=true` to remove the overhead.\n",
            "And if memory is not enough, you can set `force_col_wise=true`.\n",
            "[LightGBM] [Info] Total Bins 55259\n",
            "[LightGBM] [Info] Number of data points in the train set: 16730, number of used features: 3070\n",
            "[LightGBM] [Info] Start training from score -2.079442\n",
            "[LightGBM] [Info] Start training from score -2.079442\n",
            "[LightGBM] [Info] Start training from score -2.079442\n",
            "[LightGBM] [Info] Start training from score -2.079442\n",
            "[LightGBM] [Info] Start training from score -2.079442\n",
            "[LightGBM] [Info] Start training from score -2.079442\n",
            "[LightGBM] [Info] Start training from score -2.079442\n",
            "[LightGBM] [Info] Start training from score -2.079442\n"
          ]
        },
        {
          "output_type": "stream",
          "name": "stderr",
          "text": [
            "/usr/local/lib/python3.11/dist-packages/sklearn/utils/deprecation.py:151: FutureWarning: 'force_all_finite' was renamed to 'ensure_all_finite' in 1.6 and will be removed in 1.8.\n",
            "  warnings.warn(\n"
          ]
        },
        {
          "output_type": "stream",
          "name": "stdout",
          "text": [
            "F1 Micro: 0.8974\n",
            "\n",
            "Fold 4\n"
          ]
        },
        {
          "output_type": "stream",
          "name": "stderr",
          "text": [
            "/usr/local/lib/python3.11/dist-packages/sklearn/utils/deprecation.py:151: FutureWarning: 'force_all_finite' was renamed to 'ensure_all_finite' in 1.6 and will be removed in 1.8.\n",
            "  warnings.warn(\n"
          ]
        },
        {
          "output_type": "stream",
          "name": "stdout",
          "text": [
            "[LightGBM] [Info] Auto-choosing row-wise multi-threading, the overhead of testing was 1.335769 seconds.\n",
            "You can set `force_row_wise=true` to remove the overhead.\n",
            "And if memory is not enough, you can set `force_col_wise=true`.\n",
            "[LightGBM] [Info] Total Bins 55542\n",
            "[LightGBM] [Info] Number of data points in the train set: 16730, number of used features: 3033\n",
            "[LightGBM] [Info] Start training from score -2.079442\n",
            "[LightGBM] [Info] Start training from score -2.079442\n",
            "[LightGBM] [Info] Start training from score -2.079442\n",
            "[LightGBM] [Info] Start training from score -2.079442\n",
            "[LightGBM] [Info] Start training from score -2.079442\n",
            "[LightGBM] [Info] Start training from score -2.079442\n",
            "[LightGBM] [Info] Start training from score -2.079442\n",
            "[LightGBM] [Info] Start training from score -2.079442\n"
          ]
        },
        {
          "output_type": "stream",
          "name": "stderr",
          "text": [
            "/usr/local/lib/python3.11/dist-packages/sklearn/utils/deprecation.py:151: FutureWarning: 'force_all_finite' was renamed to 'ensure_all_finite' in 1.6 and will be removed in 1.8.\n",
            "  warnings.warn(\n"
          ]
        },
        {
          "output_type": "stream",
          "name": "stdout",
          "text": [
            "F1 Micro: 0.9075\n",
            "\n",
            "Fold 5\n"
          ]
        },
        {
          "output_type": "stream",
          "name": "stderr",
          "text": [
            "/usr/local/lib/python3.11/dist-packages/sklearn/utils/deprecation.py:151: FutureWarning: 'force_all_finite' was renamed to 'ensure_all_finite' in 1.6 and will be removed in 1.8.\n",
            "  warnings.warn(\n"
          ]
        },
        {
          "output_type": "stream",
          "name": "stdout",
          "text": [
            "[LightGBM] [Info] Auto-choosing row-wise multi-threading, the overhead of testing was 0.696541 seconds.\n",
            "You can set `force_row_wise=true` to remove the overhead.\n",
            "And if memory is not enough, you can set `force_col_wise=true`.\n",
            "[LightGBM] [Info] Total Bins 55520\n",
            "[LightGBM] [Info] Number of data points in the train set: 16730, number of used features: 3090\n",
            "[LightGBM] [Info] Start training from score -2.079442\n",
            "[LightGBM] [Info] Start training from score -2.079442\n",
            "[LightGBM] [Info] Start training from score -2.079442\n",
            "[LightGBM] [Info] Start training from score -2.079442\n",
            "[LightGBM] [Info] Start training from score -2.079442\n",
            "[LightGBM] [Info] Start training from score -2.079442\n",
            "[LightGBM] [Info] Start training from score -2.079442\n",
            "[LightGBM] [Info] Start training from score -2.079442\n"
          ]
        },
        {
          "output_type": "stream",
          "name": "stderr",
          "text": [
            "/usr/local/lib/python3.11/dist-packages/sklearn/utils/deprecation.py:151: FutureWarning: 'force_all_finite' was renamed to 'ensure_all_finite' in 1.6 and will be removed in 1.8.\n",
            "  warnings.warn(\n"
          ]
        },
        {
          "output_type": "stream",
          "name": "stdout",
          "text": [
            "F1 Micro: 0.9027\n",
            "\n",
            "Overall OOF F1 Micro: 0.9050\n"
          ]
        }
      ]
    },
    {
      "cell_type": "code",
      "source": [
        "from sklearn.metrics import classification_report, confusion_matrix # Import classification_report and confusion_matrix\n",
        "import seaborn as sns\n",
        "import matplotlib.pyplot as plt\n",
        "import numpy as np # Import numpy\n",
        "\n",
        "y_true = np.array(y_encoded)\n",
        "y_pred = np.array(results_lgbm['oof_preds'])\n",
        "\n",
        "unique_label_indices = np.unique(np.concatenate((y_true, y_pred)))\n",
        "label_names = [str(cls) for cls in le.inverse_transform(unique_label_indices)]\n",
        "\n",
        "print(\"\\nClassification Report (LightGBM):\")\n",
        "print(classification_report(\n",
        "    y_true,\n",
        "    y_pred,\n",
        "    labels=unique_label_indices,\n",
        "    target_names=label_names\n",
        "))\n",
        "\n",
        "conf_matrix = confusion_matrix(y_true, y_pred, labels=unique_label_indices)\n",
        "\n",
        "plt.figure(figsize=(10, 7))\n",
        "sns.heatmap(\n",
        "    conf_matrix,\n",
        "    annot=True, fmt='d', cmap='YlGnBu',\n",
        "    xticklabels=label_names,\n",
        "    yticklabels=label_names\n",
        ")\n",
        "plt.title(\"OOF Confusion Matrix (LightGBM)\")\n",
        "plt.xlabel(\"Predicted\")\n",
        "plt.ylabel(\"Actual\")\n",
        "plt.tight_layout()\n",
        "plt.show()\n",
        "\n"
      ],
      "metadata": {
        "colab": {
          "base_uri": "https://localhost:8080/",
          "height": 1000
        },
        "id": "QFHJHNkgFYf2",
        "outputId": "0b417f14-ba38-4f96-d588-3a2e65270967"
      },
      "execution_count": 95,
      "outputs": [
        {
          "output_type": "stream",
          "name": "stdout",
          "text": [
            "\n",
            "Classification Report (LightGBM):\n",
            "              precision    recall  f1-score   support\n",
            "\n",
            "           0       0.78      0.75      0.76      2614\n",
            "           1       0.92      0.86      0.89      2614\n",
            "           2       0.87      0.93      0.90      2614\n",
            "           3       0.99      1.00      0.99      2614\n",
            "           4       0.85      0.87      0.86      2614\n",
            "           5       0.84      0.82      0.83      2614\n",
            "           6       0.99      1.00      1.00      2614\n",
            "           7       1.00      1.00      1.00      2614\n",
            "\n",
            "    accuracy                           0.90     20912\n",
            "   macro avg       0.90      0.90      0.90     20912\n",
            "weighted avg       0.90      0.90      0.90     20912\n",
            "\n"
          ]
        },
        {
          "output_type": "display_data",
          "data": {
            "text/plain": [
              "<Figure size 1000x700 with 2 Axes>"
            ],
            "image/png": "[encoded data removed]"
          },
          "metadata": {}
        }
      ]
    },
    {
      "cell_type": "code",
      "source": [
        "from scipy.sparse import hstack # Import hstack\n",
        "from scipy.sparse import csr_matrix # Import csr_matrix\n",
        "import numpy as np # Import numpy\n",
        "\n",
        "# Instead of creating a placeholder with 1 feature:\n",
        "# math_features_test = csr_matrix(np.zeros((test_df.shape[0], 1)))\n",
        "\n",
        "# Create an empty sparse matrix with 0 features:\n",
        "math_features_test = csr_matrix(np.empty((test_df.shape[0], 0)))\n",
        "\n",
        "# OR: remove math_features_test from hstack\n",
        "\n",
        "test_features_combined = hstack([\n",
        "    tfidf.transform(test_df['Question']),\n",
        "    math_features_test  #  This now has 0 features\n",
        "])\n",
        "\n",
        "# Alternatively, to have 1 math feature:\n",
        "# Ensure math_features_test has been calculated for the test set with 1 feature per row\n",
        "# using the same logic as with train_df\n",
        "\n",
        "test_preds_encoded = results_lgbm['models'][0].predict(test_features_combined)\n",
        "\n",
        "test_preds = le.inverse_transform(test_preds_encoded)\n",
        "\n",
        "submission = pd.DataFrame({\n",
        "    'id': test_df['id'],\n",
        "    'label': test_preds\n",
        "})\n",
        "\n",
        "submission.to_csv('submission.csv', index=False)"
      ],
      "metadata": {
        "colab": {
          "base_uri": "https://localhost:8080/"
        },
        "id": "GgExCDZsG3sZ",
        "outputId": "01ac6f89-b244-4c35-da2e-ebee4582bf80"
      },
      "execution_count": 99,
      "outputs": [
        {
          "output_type": "stream",
          "name": "stderr",
          "text": [
            "/usr/local/lib/python3.11/dist-packages/sklearn/utils/deprecation.py:151: FutureWarning: 'force_all_finite' was renamed to 'ensure_all_finite' in 1.6 and will be removed in 1.8.\n",
            "  warnings.warn(\n"
          ]
        }
      ]
    }
  ],
  "metadata": {
    "colab": {
      "provenance": [],
      "mount_file_id": "1IcHwpyXrmU3c5JEJM5rC3TRGh7XakKwy",
      "authorship_tag": "ABX9TyNfdVEyTGGWYIFZbp2BgRpB",
      "include_colab_link": true
    },
    "kernelspec": {
      "display_name": "Python 3",
      "name": "python3"
    },
    "language_info": {
      "name": "python"
    }
  },
  "nbformat": 4,
  "nbformat_minor": 0
}